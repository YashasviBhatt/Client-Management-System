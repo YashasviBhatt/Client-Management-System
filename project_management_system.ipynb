{
 "cells": [
  {
   "cell_type": "code",
   "execution_count": 1,
   "id": "a5036b42",
   "metadata": {},
   "outputs": [],
   "source": [
    "# Importing Libraries\n",
    "from neo4j import GraphDatabase\n",
    "import yaml\n",
    "from yaml.loader import SafeLoader\n",
    "import pandas as pd\n",
    "import random\n",
    "from tqdm.notebook import tqdm_notebook as bar"
   ]
  },
  {
   "cell_type": "code",
   "execution_count": 2,
   "id": "c27520da",
   "metadata": {},
   "outputs": [],
   "source": [
    "# Fetching Constants\n",
    "with open('config.yaml') as f:\n",
    "    configs = yaml.load(f, SafeLoader)\n",
    "\n",
    "# Setting Up Database Connection\n",
    "connector = GraphDatabase.driver(\n",
    "    uri=configs['AUTHENTICATION']['uri'], \n",
    "    auth=(\n",
    "        configs['AUTHENTICATION']['username'], \n",
    "        configs['AUTHENTICATION']['password']\n",
    "    )\n",
    ")\n",
    "\n",
    "# Reading Data Sets for Node and Relationship Creatio\n",
    "df_person = pd.read_csv('person_names.csv')\n",
    "df_projects = pd.read_csv('project_names.csv')\n",
    "df_skills = pd.read_csv('skill_names.csv')"
   ]
  },
  {
   "cell_type": "code",
   "execution_count": 3,
   "id": "0eacca39",
   "metadata": {},
   "outputs": [
    {
     "data": {
      "text/html": [
       "<div>\n",
       "<style scoped>\n",
       "    .dataframe tbody tr th:only-of-type {\n",
       "        vertical-align: middle;\n",
       "    }\n",
       "\n",
       "    .dataframe tbody tr th {\n",
       "        vertical-align: top;\n",
       "    }\n",
       "\n",
       "    .dataframe thead th {\n",
       "        text-align: right;\n",
       "    }\n",
       "</style>\n",
       "<table border=\"1\" class=\"dataframe\">\n",
       "  <thead>\n",
       "    <tr style=\"text-align: right;\">\n",
       "      <th></th>\n",
       "      <th>person</th>\n",
       "    </tr>\n",
       "  </thead>\n",
       "  <tbody>\n",
       "    <tr>\n",
       "      <th>0</th>\n",
       "      <td>Name0</td>\n",
       "    </tr>\n",
       "    <tr>\n",
       "      <th>1</th>\n",
       "      <td>Name1</td>\n",
       "    </tr>\n",
       "    <tr>\n",
       "      <th>2</th>\n",
       "      <td>Name2</td>\n",
       "    </tr>\n",
       "    <tr>\n",
       "      <th>3</th>\n",
       "      <td>Name3</td>\n",
       "    </tr>\n",
       "    <tr>\n",
       "      <th>4</th>\n",
       "      <td>Name4</td>\n",
       "    </tr>\n",
       "  </tbody>\n",
       "</table>\n",
       "</div>"
      ],
      "text/plain": [
       "  person\n",
       "0  Name0\n",
       "1  Name1\n",
       "2  Name2\n",
       "3  Name3\n",
       "4  Name4"
      ]
     },
     "execution_count": 3,
     "metadata": {},
     "output_type": "execute_result"
    }
   ],
   "source": [
    "# Person Data\n",
    "df_person.head()"
   ]
  },
  {
   "cell_type": "code",
   "execution_count": 4,
   "id": "f6092ddb",
   "metadata": {},
   "outputs": [
    {
     "data": {
      "text/html": [
       "<div>\n",
       "<style scoped>\n",
       "    .dataframe tbody tr th:only-of-type {\n",
       "        vertical-align: middle;\n",
       "    }\n",
       "\n",
       "    .dataframe tbody tr th {\n",
       "        vertical-align: top;\n",
       "    }\n",
       "\n",
       "    .dataframe thead th {\n",
       "        text-align: right;\n",
       "    }\n",
       "</style>\n",
       "<table border=\"1\" class=\"dataframe\">\n",
       "  <thead>\n",
       "    <tr style=\"text-align: right;\">\n",
       "      <th></th>\n",
       "      <th>projects</th>\n",
       "    </tr>\n",
       "  </thead>\n",
       "  <tbody>\n",
       "    <tr>\n",
       "      <th>0</th>\n",
       "      <td>Project0</td>\n",
       "    </tr>\n",
       "    <tr>\n",
       "      <th>1</th>\n",
       "      <td>Project1</td>\n",
       "    </tr>\n",
       "    <tr>\n",
       "      <th>2</th>\n",
       "      <td>Project2</td>\n",
       "    </tr>\n",
       "    <tr>\n",
       "      <th>3</th>\n",
       "      <td>Project3</td>\n",
       "    </tr>\n",
       "    <tr>\n",
       "      <th>4</th>\n",
       "      <td>Project4</td>\n",
       "    </tr>\n",
       "  </tbody>\n",
       "</table>\n",
       "</div>"
      ],
      "text/plain": [
       "   projects\n",
       "0  Project0\n",
       "1  Project1\n",
       "2  Project2\n",
       "3  Project3\n",
       "4  Project4"
      ]
     },
     "execution_count": 4,
     "metadata": {},
     "output_type": "execute_result"
    }
   ],
   "source": [
    "# Projects Data\n",
    "df_projects.head()"
   ]
  },
  {
   "cell_type": "code",
   "execution_count": 5,
   "id": "54e1cd6f",
   "metadata": {},
   "outputs": [
    {
     "data": {
      "text/html": [
       "<div>\n",
       "<style scoped>\n",
       "    .dataframe tbody tr th:only-of-type {\n",
       "        vertical-align: middle;\n",
       "    }\n",
       "\n",
       "    .dataframe tbody tr th {\n",
       "        vertical-align: top;\n",
       "    }\n",
       "\n",
       "    .dataframe thead th {\n",
       "        text-align: right;\n",
       "    }\n",
       "</style>\n",
       "<table border=\"1\" class=\"dataframe\">\n",
       "  <thead>\n",
       "    <tr style=\"text-align: right;\">\n",
       "      <th></th>\n",
       "      <th>skills</th>\n",
       "    </tr>\n",
       "  </thead>\n",
       "  <tbody>\n",
       "    <tr>\n",
       "      <th>0</th>\n",
       "      <td>Skill0</td>\n",
       "    </tr>\n",
       "    <tr>\n",
       "      <th>1</th>\n",
       "      <td>Skill1</td>\n",
       "    </tr>\n",
       "    <tr>\n",
       "      <th>2</th>\n",
       "      <td>Skill2</td>\n",
       "    </tr>\n",
       "    <tr>\n",
       "      <th>3</th>\n",
       "      <td>Skill3</td>\n",
       "    </tr>\n",
       "    <tr>\n",
       "      <th>4</th>\n",
       "      <td>Skill4</td>\n",
       "    </tr>\n",
       "  </tbody>\n",
       "</table>\n",
       "</div>"
      ],
      "text/plain": [
       "   skills\n",
       "0  Skill0\n",
       "1  Skill1\n",
       "2  Skill2\n",
       "3  Skill3\n",
       "4  Skill4"
      ]
     },
     "execution_count": 5,
     "metadata": {},
     "output_type": "execute_result"
    }
   ],
   "source": [
    "# Skills Data\n",
    "df_skills.head()"
   ]
  },
  {
   "cell_type": "code",
   "execution_count": 6,
   "id": "932a8c4d",
   "metadata": {},
   "outputs": [],
   "source": [
    "def create_node(node_label, node_value, connector):\n",
    "    '''\n",
    "    Function to create a Node.\n",
    "    Args:\n",
    "        node_label::[str]\n",
    "            Node Label to be used to create Node on Neo4j.\n",
    "        node_value::[str]\n",
    "            Node Value to be used to display on Node when it is created on Neo4j.\n",
    "        connector::[neo4j.BoltDriver]\n",
    "            Neo4j Python Driver Object to query Database.\n",
    "    Returns:\n",
    "        None\n",
    "    '''\n",
    "    # Checking for Input Validity\n",
    "    if node_label in configs['CATEGORIES']:\n",
    "        \n",
    "        # Setting Up Session\n",
    "        with connector.session() as session:\n",
    "            \n",
    "            # Creating Node\n",
    "            query = f'CREATE (n: {node_label}{{name: \"{node_value}\"}})'\n",
    "            session.run(query)"
   ]
  },
  {
   "cell_type": "code",
   "execution_count": 7,
   "id": "9556012c",
   "metadata": {},
   "outputs": [],
   "source": [
    "def create_graph(persons, skills, projects, connector):\n",
    "    '''\n",
    "    Function to create Graph on Neo4j Server.\n",
    "    Args:\n",
    "        persons::[pandas.core.dataframe.DataFrame]\n",
    "            Pandas DataFrame Object containing Person Entities. The Label for these Entities is \"person\".\n",
    "        skills::[pandas.core.dataframe.DataFrame]\n",
    "            Pandas DataFrame Object containing Skill Entities. The Label for these Entities is \"skill\".\n",
    "        projects::[pandas.core.dataframe.DataFrame]\n",
    "            Pandas DataFrame Object containing Project Entities. The Label for these Entities is \"project\".\n",
    "        connector::[neo4j.BoltDriver]\n",
    "            Neo4j Python Driver Object to query Database.\n",
    "    Returns:\n",
    "        None\n",
    "    '''\n",
    "    # Creating Person Nodes\n",
    "    for person in bar(persons.values.tolist()):\n",
    "        create_node('person', person[0], connector)\n",
    "        \n",
    "    # Creating Skill Nodes\n",
    "    for skill in bar(skills.values.tolist()):\n",
    "        create_node('skill', skill[0], connector)\n",
    "    \n",
    "    # Creating Project Nodes\n",
    "    for project in bar(projects.values.tolist()):\n",
    "        create_node('project', project[0], connector)"
   ]
  },
  {
   "cell_type": "code",
   "execution_count": 8,
   "id": "b58ef524",
   "metadata": {},
   "outputs": [],
   "source": [
    "def record_exist(node_value, connector):\n",
    "    '''\n",
    "    Function to check if Record Exists.\n",
    "    Args:\n",
    "        node_value::[str]\n",
    "            Node Value for which to check if it exists.\n",
    "        connector::[neo4j.BoltDriver]\n",
    "            Neo4j Python Driver Object to query Database.\n",
    "    Returns:\n",
    "        node_label::[str]\n",
    "            If record exist then the Node Label will be provided.\n",
    "        False, for Failure.\n",
    "    '''\n",
    "    # Setting Up Session\n",
    "    with connector.session() as session:\n",
    "        \n",
    "        # Checking if Node Exists or Not\n",
    "        query = f'MATCH (n) WHERE n.name=\"{node_value}\" RETURN (n)'\n",
    "        result = list(session.run(query))\n",
    "        \n",
    "        # Fetching Node Label\n",
    "        if len(result) == 1:\n",
    "            node_label = str(result[0]).split('frozenset')[1].split(' ')[0][3:-3]\n",
    "            return node_label\n",
    "        \n",
    "        # If Node doesn't exist or more than one Nodes are present\n",
    "        else:\n",
    "            print('Either Node doesn\\'t Exist or more than one Node with same \"name\" Property Exist. Please enter a Value.')\n",
    "            return False"
   ]
  },
  {
   "cell_type": "code",
   "execution_count": 9,
   "id": "979a2496",
   "metadata": {},
   "outputs": [],
   "source": [
    "def setup_relationship(node_value1, node_value2, connector):\n",
    "    '''\n",
    "    Function to setup Relationship between 2 Nodes.\n",
    "    Args:\n",
    "        node_value1::[str]\n",
    "            Node Value from where the Relationship started.\n",
    "        node_value2::[str]\n",
    "            Node Value from where the Relationship ended.\n",
    "        connector::[neo4j.BoltDriver]\n",
    "            Neo4j Python Driver Object to query Database.\n",
    "    Returns:\n",
    "        None\n",
    "    '''\n",
    "    # Fetching Label\n",
    "    label1 = record_exist(node_value1, connector)\n",
    "    label2 = record_exist(node_value2, connector)\n",
    "    \n",
    "    # Setting Up Relationship\n",
    "    if label1 and label2:\n",
    "        \n",
    "        # Key to setup Relationship from Config File\n",
    "        key = f'{label1}, {label2}'\n",
    "        \n",
    "        # Checking if Relationship is Possible or Not\n",
    "        if key in configs['RELATIONSHIPS'].keys():\n",
    "            relationship = configs['RELATIONSHIPS'][key]\n",
    "            \n",
    "            # Setting Up Session\n",
    "            with connector.session() as session:\n",
    "                \n",
    "                # Finalizing Relationship\n",
    "                query = f'MATCH(a: {label1}), (b: {label2}) WHERE a.name=\"{node_value1}\" and b.name=\"{node_value2}\" CREATE (a)-[r: {relationship}]->(b)'\n",
    "                session.run(query)"
   ]
  },
  {
   "cell_type": "code",
   "execution_count": 10,
   "id": "544732ed",
   "metadata": {},
   "outputs": [],
   "source": [
    "def setup_graph_relationship(mapped_nodes, connector):\n",
    "    '''\n",
    "    Function to setup all Relationships between Nodes in the Graph.\n",
    "    Args:\n",
    "        mapped_nodes::[dictionary]\n",
    "            Dictionary Containing Mapping Information.\n",
    "        connector::[neo4j.BoltDriver]\n",
    "            Neo4j Python Driver Object to query Database.\n",
    "    Returns:\n",
    "        None\n",
    "    '''\n",
    "    # Setting Up Relations\n",
    "    for relationship_initiator in bar(mapped_nodes.keys()):\n",
    "        for relationship_acceptor in mapped_nodes[relationship_initiator]:\n",
    "            \n",
    "            # Setting Relationship\n",
    "            setup_relationship(relationship_initiator.split(' ')[0], relationship_acceptor, connector)"
   ]
  },
  {
   "cell_type": "code",
   "execution_count": 11,
   "id": "0dc55d26",
   "metadata": {},
   "outputs": [],
   "source": [
    "def best_match_finder(project_skill_required_list, persons_skill_mapping_list):\n",
    "    '''\n",
    "    Function to find the best matching of resources (persons) as per the skills needed to work on the Project.\n",
    "    Args:\n",
    "        project_skill_required_list::[list]\n",
    "            List containing skills required to complete the Project.\n",
    "        persons_skill_mapping_list::[list]\n",
    "            List containing all the skills mapped with the persons available for work.\n",
    "    Returns:\n",
    "        resource_list::[list]\n",
    "            Resource List containing names of Resources that are suitable to work on the Project based on Project Skills required and Skills they have mastery on.\n",
    "    '''\n",
    "    # Handler Variables\n",
    "    resource_list = []\n",
    "    current_skill_required_list = project_skill_required_list[:]\n",
    "    success_flag = False\n",
    "    \n",
    "    # Finding Best Match\n",
    "    for person, skills in persons_skill_mapping_list.items():\n",
    "        \n",
    "        # Checking if more resources are required\n",
    "        if len(current_skill_required_list) != 0:\n",
    "        \n",
    "            # Traversing through Skills for Skill Matching\n",
    "            for skill in skills:\n",
    "\n",
    "                # Checking if the person has skills required to work on the Project\n",
    "                if skill in current_skill_required_list:\n",
    "                    success_flag = True\n",
    "                    current_skill_required_list.remove(skill)\n",
    "                    \n",
    "            # Appending Person to the Final Resource List\n",
    "            if success_flag:\n",
    "                resource_list.append(person)\n",
    "                success_flag = False\n",
    "        \n",
    "        # Exit Loop\n",
    "        else:\n",
    "            break\n",
    "    \n",
    "    return resource_list"
   ]
  },
  {
   "cell_type": "code",
   "execution_count": 12,
   "id": "dce50b5a",
   "metadata": {},
   "outputs": [],
   "source": [
    "def mapper(persons, skills, projects):\n",
    "    '''\n",
    "    Function to map entities in all 3 DataFrames.\n",
    "    Args:\n",
    "        persons::[pandas.core.dataframe.DataFrame]\n",
    "            DataFrame containing Person Names.\n",
    "        skills::[pandas.core.dataframe.DataFrame]\n",
    "            DataFrame containing Skills Names.\n",
    "        projects::[pandas.core.dataframe.DataFrame]\n",
    "            DataFrame containing Projects Names.\n",
    "    Returns:\n",
    "        mapped_values::[dict]\n",
    "            The dictionary contains the string keys and their respective list values.\n",
    "            The string keys are the mapping initiator. They initiates mapping.\n",
    "            The lists are the mapping receiver which contains multiple items mapped together with their respective string keys.\n",
    "    '''\n",
    "    # Handler Variables\n",
    "    person_skill_mapping_list = {}\n",
    "    project_skill_mapping_list = {}\n",
    "    mapped_values = {}\n",
    "    \n",
    "    # Mapping Person and Skills\n",
    "    for person in persons.values.tolist():\n",
    "        \n",
    "        # Adding Mapping\n",
    "        person_skill_mapping_list[person[0]] = random.sample([skill[0] for skill in skills.values.tolist()], random.choice([n for n in range(2, 8)]))\n",
    "    \n",
    "    # Mapping Project and Skills\n",
    "    for project in projects.values.tolist():\n",
    "        \n",
    "        # Adding Mapping\n",
    "        project_skill_mapping_list[project[0]] = random.sample([skill[0] for skill in skills.values.tolist()], random.choice([n for n in range(8, 15)]))\n",
    "                \n",
    "    # Mapping Project and Person\n",
    "    for project in projects.values.tolist():\n",
    "        mapped_values[f'{project[0]} Resources'] = best_match_finder(project_skill_mapping_list[project[0]], person_skill_mapping_list)\n",
    "    \n",
    "    # Final Dictionary\n",
    "    mapped_values.update(person_skill_mapping_list)\n",
    "    mapped_values.update(project_skill_mapping_list)\n",
    "    \n",
    "    return mapped_values"
   ]
  },
  {
   "cell_type": "code",
   "execution_count": 13,
   "id": "21219c1c",
   "metadata": {},
   "outputs": [],
   "source": [
    "# Mapping Nodes\n",
    "mapped_nodes = mapper(df_person, df_skills, df_projects)"
   ]
  },
  {
   "cell_type": "code",
   "execution_count": 14,
   "id": "8f647811",
   "metadata": {},
   "outputs": [
    {
     "data": {
      "application/vnd.jupyter.widget-view+json": {
       "model_id": "5ef954acda684728aa64011d07e1b205",
       "version_major": 2,
       "version_minor": 0
      },
      "text/plain": [
       "  0%|          | 0/50 [00:00<?, ?it/s]"
      ]
     },
     "metadata": {},
     "output_type": "display_data"
    },
    {
     "data": {
      "application/vnd.jupyter.widget-view+json": {
       "model_id": "11f7311d48584bff8e1a61d256f50072",
       "version_major": 2,
       "version_minor": 0
      },
      "text/plain": [
       "  0%|          | 0/50 [00:00<?, ?it/s]"
      ]
     },
     "metadata": {},
     "output_type": "display_data"
    },
    {
     "data": {
      "application/vnd.jupyter.widget-view+json": {
       "model_id": "529e25fa1cc748a3863f2089badfb246",
       "version_major": 2,
       "version_minor": 0
      },
      "text/plain": [
       "  0%|          | 0/15 [00:00<?, ?it/s]"
      ]
     },
     "metadata": {},
     "output_type": "display_data"
    }
   ],
   "source": [
    "# Creating Nodes for the Entities\n",
    "create_graph(df_person, df_skills, df_projects, connector)"
   ]
  },
  {
   "cell_type": "code",
   "execution_count": 15,
   "id": "6903f6c7",
   "metadata": {},
   "outputs": [
    {
     "data": {
      "application/vnd.jupyter.widget-view+json": {
       "model_id": "495def89a0fa4dfc8b4fa1950faff3b6",
       "version_major": 2,
       "version_minor": 0
      },
      "text/plain": [
       "  0%|          | 0/80 [00:00<?, ?it/s]"
      ]
     },
     "metadata": {},
     "output_type": "display_data"
    }
   ],
   "source": [
    "# Creating Relationships\n",
    "setup_graph_relationship(mapped_nodes, connector)"
   ]
  },
  {
   "cell_type": "markdown",
   "id": "7f17f3f3",
   "metadata": {},
   "source": [
    "Optimization Updates\n",
    "1. Allocate Resources to Project based on the Number of Required. For example if 10 Resources are Required to Complete Project10, then 10 must be allocated to it and no more and no less.\n",
    "2. The fixed allocation must be optimized, such that each Project will have skill-rich resources and no halting must occur.\n",
    "3. The overallocation and underallocation also needed to be rectify. For example in current scenario, Resouce 0 and Resouce 1 are facing Overallocation and Later Resources are facing Under/Zero Allocation."
   ]
  }
 ],
 "metadata": {
  "kernelspec": {
   "display_name": "Python 3 (ipykernel)",
   "language": "python",
   "name": "python3"
  },
  "language_info": {
   "codemirror_mode": {
    "name": "ipython",
    "version": 3
   },
   "file_extension": ".py",
   "mimetype": "text/x-python",
   "name": "python",
   "nbconvert_exporter": "python",
   "pygments_lexer": "ipython3",
   "version": "3.7.3"
  }
 },
 "nbformat": 4,
 "nbformat_minor": 5
}
